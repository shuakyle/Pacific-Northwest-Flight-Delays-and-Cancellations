{
 "cells": [
  {
   "cell_type": "markdown",
   "id": "6f4b6b29-6f9a-45ee-96bc-ff4c822d240f",
   "metadata": {},
   "source": [
    "![Plane departing the Pacific Northwest](IMG_8801.JPG)\n",
    "\n",
    "A prominent airline company in the Pacific Northwest has accumulated extensive data related to flights and weather patterns and needs to understand the factors influencing the departure delays and cancellations to benefit both airlines and passengers. As the data analyst on the team, you decide to embark on this analytical project.\n",
    "\n",
    "The aviation industry is dynamic with various variables impacting flight operations. To ensure the relevance and applicability of your findings, you choose to focus solely on flights from the 'pnwflights2022' datasets available from the ModernDive team exported as CSV files. These datasets provide comprehensive information on flights departing in the first half of 2022 from both of the two major airports in this region: SEA (Seattle-Tacoma International Airport) and PDX (Portland International Airport): \n",
    "\n",
    "- `flights2022.csv` contains information about about each flight including \n",
    "\n",
    "| Variable   | Description                                          |\n",
    "|------------|------------------------------------------------------|\n",
    "| `dep_time`   | Departure time (in the format hhmm) where`NA` corresponds to a cancelled flight        |\n",
    "| `dep_delay`  | Departure delay, in minutes (negative for early)    |\n",
    "| `origin`     | Origin airport where flight starts (IATA code)\n",
    "| `airline`    | Carrier/airline name                        |\n",
    "| `dest`       | Destination airport where flight lands (IATA code)  \n",
    "\n",
    "- `flights_weather2022.csv` contains the same flight information as well as weather conditions such as \n",
    " \n",
    "| Variable   | Description                                           |\n",
    "|------------|-------------------------------------------------------|\n",
    "| `visib`      | Visibility (in miles)                                 |\n",
    "| `wind_gust`  | Wind gust speed (in mph)  "
   ]
  },
  {
   "cell_type": "code",
   "execution_count": 1,
   "id": "ebe7f904-ae87-444c-8b2c-4079a9fbc5fe",
   "metadata": {
    "executionCancelledAt": null,
    "executionTime": 2768,
    "lastExecutedAt": 1698658277788,
    "lastScheduledRunId": null,
    "lastSuccessfullyExecutedCode": "# Import required libraries\nimport pandas as pd\nimport matplotlib.pyplot as plt\n\n# Start your code here!"
   },
   "outputs": [],
   "source": [
    "# Import required libraries\n",
    "import pandas as pd\n",
    "import matplotlib.pyplot as plt\n",
    "\n",
    "# Start your code here!"
   ]
  }
 ],
 "metadata": {
  "colab": {
   "name": "Welcome to DataCamp Workspaces.ipynb",
   "provenance": []
  },
  "kernelspec": {
   "display_name": "Python [conda env:base] *",
   "language": "python",
   "name": "conda-base-py"
  },
  "language_info": {
   "codemirror_mode": {
    "name": "ipython",
    "version": 3
   },
   "file_extension": ".py",
   "mimetype": "text/x-python",
   "name": "python",
   "nbconvert_exporter": "python",
   "pygments_lexer": "ipython3",
   "version": "3.13.5"
  }
 },
 "nbformat": 4,
 "nbformat_minor": 5
}
